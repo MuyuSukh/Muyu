{
 "cells": [
  {
   "cell_type": "markdown",
   "id": "4bcb86ea",
   "metadata": {},
   "source": [
    "Homework 2: Munkhchimeg Sukhee"
   ]
  },
  {
   "cell_type": "code",
   "execution_count": 145,
   "id": "75e1810e",
   "metadata": {},
   "outputs": [
    {
     "data": {
      "text/plain": [
       "list"
      ]
     },
     "execution_count": 145,
     "metadata": {},
     "output_type": "execute_result"
    }
   ],
   "source": [
    "# Creating list \n",
    "list_mix = ['Muyu','Ganba','Sugaraa', 90, 95, 100]\n",
    "type(list_mix)"
   ]
  },
  {
   "cell_type": "code",
   "execution_count": 146,
   "id": "0c35db8d",
   "metadata": {},
   "outputs": [
    {
     "data": {
      "text/plain": [
       "['Muyu', 'Ganba', 'Sugaraa', 90, 95, 100]"
      ]
     },
     "execution_count": 146,
     "metadata": {},
     "output_type": "execute_result"
    }
   ],
   "source": [
    "# Joining new element\n",
    "\", \".join(['Naraa', 'Zulaa'])\n",
    "list_mix"
   ]
  },
  {
   "cell_type": "code",
   "execution_count": 147,
   "id": "2f7d9ba9",
   "metadata": {},
   "outputs": [
    {
     "data": {
      "text/plain": [
       "['Muyu',\n",
       " 'Ganba',\n",
       " 'Sugaraa',\n",
       " 90,\n",
       " 95,\n",
       " 100,\n",
       " 'Naraa',\n",
       " 100,\n",
       " 'Zulaa',\n",
       " 'Bat',\n",
       " 'Bold',\n",
       " 100,\n",
       " 100]"
      ]
     },
     "execution_count": 147,
     "metadata": {},
     "output_type": "execute_result"
    }
   ],
   "source": [
    "# append, insert, extend list\n",
    "#append\n",
    "list_mix.append('Naraa')\n",
    "list_mix.append(100)\n",
    "#insert\n",
    "list_mix.insert(100,\"Zulaa\")\n",
    "#extend\n",
    "add1=[\"Bat\", \"Bold\", 100, 100]\n",
    "list_mix.extend(add1)\n",
    "#list_mix.append(add1)\n",
    "list_mix"
   ]
  },
  {
   "cell_type": "code",
   "execution_count": 148,
   "id": "f2e7a093",
   "metadata": {},
   "outputs": [
    {
     "data": {
      "text/plain": [
       "['Muyu',\n",
       " 'Ganba',\n",
       " 'Sugaraa',\n",
       " 90,\n",
       " 95,\n",
       " 100,\n",
       " 'Naraa',\n",
       " 100,\n",
       " 'Zulaa',\n",
       " 'Bat',\n",
       " 'Bold',\n",
       " 100]"
      ]
     },
     "execution_count": 148,
     "metadata": {},
     "output_type": "execute_result"
    }
   ],
   "source": [
    "# remove element by index\n",
    "list_mix.pop()  # delete last item\n",
    "list_mix\n"
   ]
  },
  {
   "cell_type": "code",
   "execution_count": 149,
   "id": "7712adfc",
   "metadata": {},
   "outputs": [
    {
     "data": {
      "text/plain": [
       "['Muyu', 'Ganba', 'Sugaraa', 90, 95, 100, 'Naraa', 100, 'Bat', 'Bold', 100]"
      ]
     },
     "execution_count": 149,
     "metadata": {},
     "output_type": "execute_result"
    }
   ],
   "source": [
    "list_mix.pop(8) # delete 9\n",
    "list_mix"
   ]
  },
  {
   "cell_type": "code",
   "execution_count": 150,
   "id": "7af9bb31",
   "metadata": {},
   "outputs": [
    {
     "data": {
      "text/plain": [
       "['Muyu', 'Sugaraa', 90, 95, 100, 'Naraa', 100, 'Bat', 'Bold', 100]"
      ]
     },
     "execution_count": 150,
     "metadata": {},
     "output_type": "execute_result"
    }
   ],
   "source": [
    "del list_mix[1:2] # delete row 1, column 2\n",
    "list_mix"
   ]
  },
  {
   "cell_type": "code",
   "execution_count": 151,
   "id": "22b6a898",
   "metadata": {},
   "outputs": [
    {
     "data": {
      "text/plain": [
       "['Muyu', 'Sugaraa', 90, 95, 100, 'Naraa', 100, 'Bold', 100]"
      ]
     },
     "execution_count": 151,
     "metadata": {},
     "output_type": "execute_result"
    }
   ],
   "source": [
    "list_mix.remove('Bat') # remove by value\n",
    "list_mix"
   ]
  },
  {
   "cell_type": "code",
   "execution_count": 152,
   "id": "9e0efe96",
   "metadata": {},
   "outputs": [
    {
     "data": {
      "text/plain": [
       "['Muyu', 'Sugaraa', 'Dolgor', 95, 100, 'Naraa', 100, 'Bold', 100]"
      ]
     },
     "execution_count": 152,
     "metadata": {},
     "output_type": "execute_result"
    }
   ],
   "source": [
    "list_mix[2] = 'Dolgor' # adding as 3rd element\n",
    "list_mix"
   ]
  },
  {
   "cell_type": "markdown",
   "id": "f190c674",
   "metadata": {},
   "source": [
    "2. Converting date to text"
   ]
  },
  {
   "cell_type": "code",
   "execution_count": 156,
   "id": "905ccdef",
   "metadata": {},
   "outputs": [
    {
     "name": "stdout",
     "output_type": "stream",
     "text": [
      "birthday date_object = 1988-04-20 00:00:00\n",
      "birthday string is 20 April, 1988\n"
     ]
    }
   ],
   "source": [
    "import datetime\n",
    "# from text to datetime\n",
    "birthday_str = \"20 April, 1988\"\n",
    "date_object = datetime.datetime.strptime(birthday_str, \"%d %B, %Y\")\n",
    "print(\"birthday date_object =\", date_object)\n",
    "\n",
    "# from datetime to text\n",
    "birthday_date = datetime.date(1988, 4, 20)\n",
    "print(\"birthday string is\", birthday_date.strftime(\"%d %B, %Y\")) \n"
   ]
  },
  {
   "cell_type": "code",
   "execution_count": 154,
   "id": "98c9592a",
   "metadata": {},
   "outputs": [
    {
     "name": "stdout",
     "output_type": "stream",
     "text": [
      "20 April, 1988\n"
     ]
    }
   ],
   "source": [
    "\n",
    "\n"
   ]
  },
  {
   "cell_type": "code",
   "execution_count": null,
   "id": "07a13486",
   "metadata": {},
   "outputs": [],
   "source": []
  }
 ],
 "metadata": {
  "kernelspec": {
   "display_name": "Python 3 (ipykernel)",
   "language": "python",
   "name": "python3"
  },
  "language_info": {
   "codemirror_mode": {
    "name": "ipython",
    "version": 3
   },
   "file_extension": ".py",
   "mimetype": "text/x-python",
   "name": "python",
   "nbconvert_exporter": "python",
   "pygments_lexer": "ipython3",
   "version": "3.9.12"
  }
 },
 "nbformat": 4,
 "nbformat_minor": 5
}
