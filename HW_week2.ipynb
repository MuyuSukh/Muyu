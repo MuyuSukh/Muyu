{
 "cells": [
  {
   "cell_type": "markdown",
   "id": "f6e822ac",
   "metadata": {},
   "source": [
    "Homework 2: Munkhchimeg Sukhee"
   ]
  },
  {
   "cell_type": "code",
   "execution_count": 44,
   "id": "4071ce4d",
   "metadata": {},
   "outputs": [
    {
     "data": {
      "text/plain": [
       "list"
      ]
     },
     "execution_count": 44,
     "metadata": {},
     "output_type": "execute_result"
    }
   ],
   "source": [
    "# Creating list \n",
    "list_mix = ['Muyu','Ganba','Sugaraa', 90, 95, 100]\n",
    "type(list_mix)"
   ]
  },
  {
   "cell_type": "code",
   "execution_count": 45,
   "id": "e8a1fcfe",
   "metadata": {},
   "outputs": [
    {
     "data": {
      "text/plain": [
       "['Muyu', 'Ganba', 'Sugaraa', 90, 95, 100]"
      ]
     },
     "execution_count": 45,
     "metadata": {},
     "output_type": "execute_result"
    }
   ],
   "source": [
    "# Joining new element\n",
    "\", \".join(['Naraa', 'Zulaa'])\n",
    "list_mix"
   ]
  },
  {
   "cell_type": "code",
   "execution_count": 46,
   "id": "f5777f21",
   "metadata": {},
   "outputs": [
    {
     "data": {
      "text/plain": [
       "['Muyu',\n",
       " 'Ganba',\n",
       " 'Sugaraa',\n",
       " 90,\n",
       " 95,\n",
       " 100,\n",
       " 'Naraa',\n",
       " 100,\n",
       " 'Zulaa',\n",
       " 'Bat',\n",
       " 'Bold',\n",
       " 100,\n",
       " 100]"
      ]
     },
     "execution_count": 46,
     "metadata": {},
     "output_type": "execute_result"
    }
   ],
   "source": [
    "# append, insert, extend list\n",
    "#append\n",
    "list_mix.append('Naraa')\n",
    "list_mix.append(100)\n",
    "#insert\n",
    "list_mix.insert(100,\"Zulaa\")\n",
    "#extend\n",
    "add1=[\"Bat\", \"Bold\", 100, 100]\n",
    "list_mix.extend(add1)\n",
    "#list_mix.append(add1)\n",
    "list_mix"
   ]
  },
  {
   "cell_type": "code",
   "execution_count": null,
   "id": "58424887",
   "metadata": {},
   "outputs": [],
   "source": []
  },
  {
   "cell_type": "code",
   "execution_count": null,
   "id": "46e3b2a3",
   "metadata": {},
   "outputs": [],
   "source": []
  }
 ],
 "metadata": {
  "kernelspec": {
   "display_name": "Python 3 (ipykernel)",
   "language": "python",
   "name": "python3"
  },
  "language_info": {
   "codemirror_mode": {
    "name": "ipython",
    "version": 3
   },
   "file_extension": ".py",
   "mimetype": "text/x-python",
   "name": "python",
   "nbconvert_exporter": "python",
   "pygments_lexer": "ipython3",
   "version": "3.9.12"
  }
 },
 "nbformat": 4,
 "nbformat_minor": 5
}
