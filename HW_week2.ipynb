{
 "cells": [
  {
   "cell_type": "markdown",
   "id": "ed14b448",
   "metadata": {},
   "source": [
    "Homework 2: Munkhchimeg Sukhee"
   ]
  },
  {
   "cell_type": "code",
   "execution_count": 115,
   "id": "67523ae1",
   "metadata": {},
   "outputs": [
    {
     "data": {
      "text/plain": [
       "list"
      ]
     },
     "execution_count": 115,
     "metadata": {},
     "output_type": "execute_result"
    }
   ],
   "source": [
    "# Creating list \n",
    "list_mix = ['Muyu','Ganba','Sugaraa', 90, 95, 100]\n",
    "type(list_mix)"
   ]
  },
  {
   "cell_type": "code",
   "execution_count": 116,
   "id": "1046c46e",
   "metadata": {},
   "outputs": [
    {
     "data": {
      "text/plain": [
       "['Muyu', 'Ganba', 'Sugaraa', 90, 95, 100]"
      ]
     },
     "execution_count": 116,
     "metadata": {},
     "output_type": "execute_result"
    }
   ],
   "source": [
    "# Joining new element\n",
    "\", \".join(['Naraa', 'Zulaa'])\n",
    "list_mix"
   ]
  },
  {
   "cell_type": "code",
   "execution_count": 117,
   "id": "d0932d95",
   "metadata": {},
   "outputs": [
    {
     "data": {
      "text/plain": [
       "['Muyu',\n",
       " 'Ganba',\n",
       " 'Sugaraa',\n",
       " 90,\n",
       " 95,\n",
       " 100,\n",
       " 'Naraa',\n",
       " 100,\n",
       " 'Zulaa',\n",
       " 'Bat',\n",
       " 'Bold',\n",
       " 100,\n",
       " 100]"
      ]
     },
     "execution_count": 117,
     "metadata": {},
     "output_type": "execute_result"
    }
   ],
   "source": [
    "# append, insert, extend list\n",
    "#append\n",
    "list_mix.append('Naraa')\n",
    "list_mix.append(100)\n",
    "#insert\n",
    "list_mix.insert(100,\"Zulaa\")\n",
    "#extend\n",
    "add1=[\"Bat\", \"Bold\", 100, 100]\n",
    "list_mix.extend(add1)\n",
    "#list_mix.append(add1)\n",
    "list_mix"
   ]
  },
  {
   "cell_type": "code",
   "execution_count": 118,
   "id": "7818182d",
   "metadata": {},
   "outputs": [
    {
     "data": {
      "text/plain": [
       "['Muyu',\n",
       " 'Ganba',\n",
       " 'Sugaraa',\n",
       " 90,\n",
       " 95,\n",
       " 100,\n",
       " 'Naraa',\n",
       " 100,\n",
       " 'Zulaa',\n",
       " 'Bat',\n",
       " 'Bold',\n",
       " 100]"
      ]
     },
     "execution_count": 118,
     "metadata": {},
     "output_type": "execute_result"
    }
   ],
   "source": [
    "# remove element by index\n",
    "list_mix.pop()  # delete last item\n",
    "list_mix\n"
   ]
  },
  {
   "cell_type": "code",
   "execution_count": 119,
   "id": "cdde7aa7",
   "metadata": {},
   "outputs": [
    {
     "data": {
      "text/plain": [
       "['Muyu', 'Ganba', 'Sugaraa', 90, 95, 100, 'Naraa', 100, 'Bat', 'Bold', 100]"
      ]
     },
     "execution_count": 119,
     "metadata": {},
     "output_type": "execute_result"
    }
   ],
   "source": [
    "list_mix.pop(8) # delete 9\n",
    "list_mix"
   ]
  },
  {
   "cell_type": "code",
   "execution_count": 120,
   "id": "c9574f82",
   "metadata": {},
   "outputs": [
    {
     "data": {
      "text/plain": [
       "['Muyu', 'Sugaraa', 90, 95, 100, 'Naraa', 100, 'Bat', 'Bold', 100]"
      ]
     },
     "execution_count": 120,
     "metadata": {},
     "output_type": "execute_result"
    }
   ],
   "source": [
    "del list_mix[1:2] # delete row 1, column 2\n",
    "list_mix"
   ]
  },
  {
   "cell_type": "code",
   "execution_count": 121,
   "id": "c064a4fb",
   "metadata": {},
   "outputs": [
    {
     "data": {
      "text/plain": [
       "['Muyu', 'Sugaraa', 90, 95, 100, 'Naraa', 100, 'Bold', 100]"
      ]
     },
     "execution_count": 121,
     "metadata": {},
     "output_type": "execute_result"
    }
   ],
   "source": [
    "list_mix.remove('Bat') # remove by value\n",
    "list_mix"
   ]
  },
  {
   "cell_type": "code",
   "execution_count": 122,
   "id": "942d0535",
   "metadata": {},
   "outputs": [
    {
     "data": {
      "text/plain": [
       "['Muyu', 'Sugaraa', 'Dolgor', 95, 100, 'Naraa', 100, 'Bold', 100]"
      ]
     },
     "execution_count": 122,
     "metadata": {},
     "output_type": "execute_result"
    }
   ],
   "source": [
    "list_mix[2] = 'Dolgor' # adding as 3rd element\n",
    "list_mix"
   ]
  },
  {
   "cell_type": "code",
   "execution_count": null,
   "id": "cca20871",
   "metadata": {},
   "outputs": [],
   "source": []
  }
 ],
 "metadata": {
  "kernelspec": {
   "display_name": "Python 3 (ipykernel)",
   "language": "python",
   "name": "python3"
  },
  "language_info": {
   "codemirror_mode": {
    "name": "ipython",
    "version": 3
   },
   "file_extension": ".py",
   "mimetype": "text/x-python",
   "name": "python",
   "nbconvert_exporter": "python",
   "pygments_lexer": "ipython3",
   "version": "3.9.12"
  }
 },
 "nbformat": 4,
 "nbformat_minor": 5
}
