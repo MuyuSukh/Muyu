{
 "cells": [
  {
   "cell_type": "markdown",
   "id": "99e44235",
   "metadata": {},
   "source": [
    "Homework 2: Munkhchimeg Sukhee"
   ]
  },
  {
   "cell_type": "markdown",
   "id": "ba5560a9",
   "metadata": {},
   "source": [
    "1. Working on list"
   ]
  },
  {
   "cell_type": "code",
   "execution_count": 159,
   "id": "36b8ecc6",
   "metadata": {},
   "outputs": [
    {
     "data": {
      "text/plain": [
       "list"
      ]
     },
     "execution_count": 159,
     "metadata": {},
     "output_type": "execute_result"
    }
   ],
   "source": [
    "# Creating list \n",
    "list_mix = ['Muyu','Ganba','Sugaraa', 90, 95, 100]\n",
    "type(list_mix)"
   ]
  },
  {
   "cell_type": "code",
   "execution_count": 160,
   "id": "630652a9",
   "metadata": {},
   "outputs": [
    {
     "data": {
      "text/plain": [
       "['Muyu', 'Ganba', 'Sugaraa', 90, 95, 100]"
      ]
     },
     "execution_count": 160,
     "metadata": {},
     "output_type": "execute_result"
    }
   ],
   "source": [
    "# Joining new element\n",
    "\", \".join(['Naraa', 'Zulaa'])\n",
    "list_mix"
   ]
  },
  {
   "cell_type": "code",
   "execution_count": 161,
   "id": "93246567",
   "metadata": {},
   "outputs": [
    {
     "data": {
      "text/plain": [
       "['Muyu',\n",
       " 'Ganba',\n",
       " 'Sugaraa',\n",
       " 90,\n",
       " 95,\n",
       " 100,\n",
       " 'Naraa',\n",
       " 100,\n",
       " 'Zulaa',\n",
       " 'Bat',\n",
       " 'Bold',\n",
       " 100,\n",
       " 100]"
      ]
     },
     "execution_count": 161,
     "metadata": {},
     "output_type": "execute_result"
    }
   ],
   "source": [
    "# append, insert, extend list\n",
    "#append\n",
    "list_mix.append('Naraa')\n",
    "list_mix.append(100)\n",
    "#insert\n",
    "list_mix.insert(100,\"Zulaa\")\n",
    "#extend\n",
    "add1=[\"Bat\", \"Bold\", 100, 100]\n",
    "list_mix.extend(add1)\n",
    "#list_mix.append(add1)\n",
    "list_mix"
   ]
  },
  {
   "cell_type": "code",
   "execution_count": 162,
   "id": "bbd36ef3",
   "metadata": {},
   "outputs": [
    {
     "data": {
      "text/plain": [
       "['Muyu',\n",
       " 'Ganba',\n",
       " 'Sugaraa',\n",
       " 90,\n",
       " 95,\n",
       " 100,\n",
       " 'Naraa',\n",
       " 100,\n",
       " 'Zulaa',\n",
       " 'Bat',\n",
       " 'Bold',\n",
       " 100]"
      ]
     },
     "execution_count": 162,
     "metadata": {},
     "output_type": "execute_result"
    }
   ],
   "source": [
    "# remove element by index\n",
    "list_mix.pop()  # delete last item\n",
    "list_mix\n"
   ]
  },
  {
   "cell_type": "code",
   "execution_count": 163,
   "id": "ba0c5ad3",
   "metadata": {},
   "outputs": [
    {
     "data": {
      "text/plain": [
       "['Muyu', 'Ganba', 'Sugaraa', 90, 95, 100, 'Naraa', 100, 'Bat', 'Bold', 100]"
      ]
     },
     "execution_count": 163,
     "metadata": {},
     "output_type": "execute_result"
    }
   ],
   "source": [
    "list_mix.pop(8) # delete 9\n",
    "list_mix"
   ]
  },
  {
   "cell_type": "code",
   "execution_count": 164,
   "id": "e93692e6",
   "metadata": {},
   "outputs": [
    {
     "data": {
      "text/plain": [
       "['Muyu', 'Sugaraa', 90, 95, 100, 'Naraa', 100, 'Bat', 'Bold', 100]"
      ]
     },
     "execution_count": 164,
     "metadata": {},
     "output_type": "execute_result"
    }
   ],
   "source": [
    "del list_mix[1:2] # delete row 1, column 2\n",
    "list_mix"
   ]
  },
  {
   "cell_type": "code",
   "execution_count": 165,
   "id": "eea04cca",
   "metadata": {},
   "outputs": [
    {
     "data": {
      "text/plain": [
       "['Muyu', 'Sugaraa', 90, 95, 100, 'Naraa', 100, 'Bold', 100]"
      ]
     },
     "execution_count": 165,
     "metadata": {},
     "output_type": "execute_result"
    }
   ],
   "source": [
    "list_mix.remove('Bat') # remove by value\n",
    "list_mix"
   ]
  },
  {
   "cell_type": "code",
   "execution_count": 166,
   "id": "e05fd676",
   "metadata": {},
   "outputs": [
    {
     "data": {
      "text/plain": [
       "['Muyu', 'Sugaraa', 'Dolgor', 95, 100, 'Naraa', 100, 'Bold', 100]"
      ]
     },
     "execution_count": 166,
     "metadata": {},
     "output_type": "execute_result"
    }
   ],
   "source": [
    "list_mix[2] = 'Dolgor' # adding as 3rd element\n",
    "list_mix"
   ]
  },
  {
   "cell_type": "markdown",
   "id": "ee920ae4",
   "metadata": {},
   "source": [
    "2. Converting date to text"
   ]
  },
  {
   "cell_type": "code",
   "execution_count": 167,
   "id": "92bf8e6c",
   "metadata": {},
   "outputs": [
    {
     "name": "stdout",
     "output_type": "stream",
     "text": [
      "birthday date_object = 1988-04-20 00:00:00\n",
      "birthday string is 20 April, 1988\n"
     ]
    }
   ],
   "source": [
    "import datetime\n",
    "# from text to datetime\n",
    "birthday_str = \"20 April, 1988\"\n",
    "date_object = datetime.datetime.strptime(birthday_str, \"%d %B, %Y\")\n",
    "print(\"birthday date_object =\", date_object)\n",
    "\n",
    "# from datetime to text\n",
    "birthday_date = datetime.date(1988, 4, 20)\n",
    "print(\"birthday string is\", birthday_date.strftime(\"%d %B, %Y\")) \n"
   ]
  },
  {
   "cell_type": "markdown",
   "id": "35616cd6",
   "metadata": {},
   "source": [
    "3. Converting a table to a dictionary\n",
    "\n"
   ]
  },
  {
   "cell_type": "code",
   "execution_count": 186,
   "id": "da037273",
   "metadata": {},
   "outputs": [
    {
     "name": "stdout",
     "output_type": "stream",
     "text": [
      "{'\\ufeffcountry': ['Mongolia', 'US', 'Germany', 'Australia'], 'continent': ['Asia', 'America', 'Europe', 'Australia'], 'pop': ['3', '300', '100', '15']}\n"
     ]
    }
   ],
   "source": [
    "import csv\n",
    "with open('table.csv') as csv_data:\n",
    "    reader = csv.reader(csv_data)\n",
    "    # eliminate blank rows if they exist\n",
    "    rows = [row for row in reader if row]\n",
    "    headings = rows[0] # get headings\n",
    "\n",
    "    country_info = {}\n",
    "    for row in rows[1:]:\n",
    "        # append the dataitem to the end of the dictionary entry\n",
    "        # set the default value of [] if this key has not been seen\n",
    "        for col_header, data_column in zip(headings, row):\n",
    "            country_info.setdefault(col_header, []).append(data_column)\n",
    "\n",
    "    print(country_info)"
   ]
  },
  {
   "cell_type": "code",
   "execution_count": null,
   "id": "8df3a72c",
   "metadata": {},
   "outputs": [],
   "source": []
  }
 ],
 "metadata": {
  "kernelspec": {
   "display_name": "Python 3 (ipykernel)",
   "language": "python",
   "name": "python3"
  },
  "language_info": {
   "codemirror_mode": {
    "name": "ipython",
    "version": 3
   },
   "file_extension": ".py",
   "mimetype": "text/x-python",
   "name": "python",
   "nbconvert_exporter": "python",
   "pygments_lexer": "ipython3",
   "version": "3.9.12"
  }
 },
 "nbformat": 4,
 "nbformat_minor": 5
}
